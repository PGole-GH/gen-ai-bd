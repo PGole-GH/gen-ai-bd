{
 "cells": [
  {
   "cell_type": "code",
   "execution_count": 1,
   "id": "a8b0612d-71f9-4811-869f-b9d8afe64c0b",
   "metadata": {},
   "outputs": [
    {
     "data": {
      "text/plain": [
       "[121, 302, 980, 102, 953]"
      ]
     },
     "execution_count": 1,
     "metadata": {},
     "output_type": "execute_result"
    }
   ],
   "source": [
    "import pyspark \n",
    "sc = pyspark.SparkContext('local[*]')\n",
    "# do something to prove it works\n",
    "rdd = sc.parallelize(range(1000))\n",
    "rdd.takeSample(False, 5)\n"
   ]
  },
  {
   "cell_type": "code",
   "execution_count": 5,
   "id": "882eb327-a85f-4299-b7a2-d3da4e4eaad9",
   "metadata": {},
   "outputs": [],
   "source": [
    "from pyspark.sql import SparkSession\n",
    "spark = SparkSession.builder \\\n",
    "    .appName(\"Read CSV in Jupyter with PySpark\") \\\n",
    "    .getOrCreate()"
   ]
  },
  {
   "cell_type": "code",
   "execution_count": 7,
   "id": "f84565c9-6f66-4908-8c59-bedb861cbb9d",
   "metadata": {},
   "outputs": [
    {
     "name": "stdout",
     "output_type": "stream",
     "text": [
      "500000\n"
     ]
    }
   ],
   "source": [
    "accountsDF = spark.read.csv(\"files/accounts.csv\", header=True, inferSchema=True)\n",
    "print(accountsDF.count())"
   ]
  },
  {
   "cell_type": "code",
   "execution_count": 8,
   "id": "32a01d24-0244-45e6-87ab-55a3df4451f4",
   "metadata": {},
   "outputs": [
    {
     "name": "stdout",
     "output_type": "stream",
     "text": [
      "500000\n"
     ]
    }
   ],
   "source": [
    "countryAbbreviationDF = spark.read.csv(\"files/country_abbreviation.csv\", header=True, inferSchema=True)\n",
    "print(accountsDF.count())"
   ]
  },
  {
   "cell_type": "code",
   "execution_count": 9,
   "id": "0ab35e91-d10c-4da7-9096-38e3f5385177",
   "metadata": {},
   "outputs": [
    {
     "name": "stdout",
     "output_type": "stream",
     "text": [
      "500000\n"
     ]
    }
   ],
   "source": [
    "transactionsDF = spark.read.csv(\"files/transactions.csv\", header=True, inferSchema=True)\n",
    "print(accountsDF.count())"
   ]
  },
  {
   "cell_type": "code",
   "execution_count": null,
   "id": "5b0d6bab-7881-4397-ba7d-372bd81ff46c",
   "metadata": {},
   "outputs": [],
   "source": []
  }
 ],
 "metadata": {
  "kernelspec": {
   "display_name": "Python 3 (ipykernel)",
   "language": "python",
   "name": "python3"
  },
  "language_info": {
   "codemirror_mode": {
    "name": "ipython",
    "version": 3
   },
   "file_extension": ".py",
   "mimetype": "text/x-python",
   "name": "python",
   "nbconvert_exporter": "python",
   "pygments_lexer": "ipython3",
   "version": "3.11.4"
  }
 },
 "nbformat": 4,
 "nbformat_minor": 5
}
