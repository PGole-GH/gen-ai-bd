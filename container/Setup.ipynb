{
 "cells": [
  {
   "cell_type": "code",
   "execution_count": 1,
   "id": "a8b0612d-71f9-4811-869f-b9d8afe64c0b",
   "metadata": {},
   "outputs": [
    {
     "data": {
      "text/plain": [
       "[29, 821, 807, 23, 980]"
      ]
     },
     "execution_count": 1,
     "metadata": {},
     "output_type": "execute_result"
    }
   ],
   "source": [
    "import pyspark \n",
    "sc = pyspark.SparkContext('local[*]')\n",
    "# do something to prove it works\n",
    "rdd = sc.parallelize(range(1000))\n",
    "rdd.takeSample(False, 5)\n"
   ]
  },
  {
   "cell_type": "code",
   "execution_count": 2,
   "id": "882eb327-a85f-4299-b7a2-d3da4e4eaad9",
   "metadata": {},
   "outputs": [],
   "source": [
    "from pyspark.sql import SparkSession\n",
    "spark = SparkSession.builder \\\n",
    "    .appName(\"Read CSV in Jupyter with PySpark\") \\\n",
    "    .getOrCreate()"
   ]
  },
  {
   "cell_type": "code",
   "execution_count": 3,
   "id": "f84565c9-6f66-4908-8c59-bedb861cbb9d",
   "metadata": {},
   "outputs": [
    {
     "name": "stdout",
     "output_type": "stream",
     "text": [
      "500000\n"
     ]
    }
   ],
   "source": [
    "accounts = spark.read.csv(\"files/accounts.csv\", header=True, inferSchema=True, sep=\";\")\n",
    "print(accounts.count())"
   ]
  },
  {
   "cell_type": "code",
   "execution_count": 4,
   "id": "32a01d24-0244-45e6-87ab-55a3df4451f4",
   "metadata": {},
   "outputs": [
    {
     "name": "stdout",
     "output_type": "stream",
     "text": [
      "121\n"
     ]
    }
   ],
   "source": [
    "country_abbrev = spark.read.csv(\"files/country_abbreviation.csv\", header=True, inferSchema=True, sep=\";\")\n",
    "print(country_abbrev.count())"
   ]
  },
  {
   "cell_type": "code",
   "execution_count": 5,
   "id": "0ab35e91-d10c-4da7-9096-38e3f5385177",
   "metadata": {},
   "outputs": [
    {
     "name": "stdout",
     "output_type": "stream",
     "text": [
      "5000000\n"
     ]
    }
   ],
   "source": [
    "transactions = spark.read.csv(\"files/transactions.csv\", header=True, inferSchema=True, sep=\";\")\n",
    "print(transactions.count())"
   ]
  },
  {
   "cell_type": "code",
   "execution_count": 16,
   "id": "5b0d6bab-7881-4397-ba7d-372bd81ff46c",
   "metadata": {},
   "outputs": [],
   "source": [
    "from pyspark.sql.functions import count, sum, max, col, round"
   ]
  },
  {
   "cell_type": "code",
   "execution_count": 7,
   "id": "4b6ee3b7-d70e-4935-b4a5-f92b5ca2788d",
   "metadata": {},
   "outputs": [
    {
     "data": {
      "text/plain": [
       "DataFrame[id: int, amount: double, account_type: string, transaction_date: date, country: string]"
      ]
     },
     "metadata": {},
     "output_type": "display_data"
    }
   ],
   "source": [
    "display(transactions)"
   ]
  },
  {
   "cell_type": "code",
   "execution_count": 8,
   "id": "c6de9199-cc82-4abf-86d6-7d7f1e7feb9a",
   "metadata": {},
   "outputs": [
    {
     "name": "stdout",
     "output_type": "stream",
     "text": [
      "+------------+------------------+\n",
      "|account_type|account_type_count|\n",
      "+------------+------------------+\n",
      "|    Personal|           1667072|\n",
      "|Professional|           1667358|\n",
      "|    Business|           1665570|\n",
      "+------------+------------------+\n",
      "\n"
     ]
    }
   ],
   "source": [
    "account_counts = transactions.groupBy(\"account_type\").agg(count(\"id\").alias(\"account_type_count\"))\n",
    "account_counts.show()"
   ]
  },
  {
   "cell_type": "code",
   "execution_count": 17,
   "id": "440c7300-998b-416c-979f-3a4811e75379",
   "metadata": {},
   "outputs": [
    {
     "name": "stdout",
     "output_type": "stream",
     "text": [
      "+------+--------+-----------+\n",
      "|    id| balance|latest_date|\n",
      "+------+--------+-----------+\n",
      "|482333|27174.07| 2020-07-17|\n",
      "|222048|48004.81| 2020-07-20|\n",
      "|328078|36948.25| 2020-02-01|\n",
      "|192401|36736.98| 2020-01-30|\n",
      "|273916|47475.38| 2021-05-30|\n",
      "|485103|62198.93| 2021-05-22|\n",
      "|300282|55103.62| 2021-05-01|\n",
      "| 20683|56448.72| 2021-10-27|\n",
      "| 15846|58671.91| 2020-12-23|\n",
      "|446783|98085.51| 2021-12-11|\n",
      "| 92182| 42335.3| 2020-08-08|\n",
      "|477485|22114.03| 2020-05-23|\n",
      "|171142| 40428.9| 2021-04-07|\n",
      "|317762|40025.55| 2021-12-02|\n",
      "| 65478| 57941.9| 2021-10-06|\n",
      "|306768|26566.93| 2019-12-19|\n",
      "|380411|43652.94| 2020-06-02|\n",
      "|304681|37827.69| 2021-03-26|\n",
      "|475638| 44509.1| 2021-11-23|\n",
      "| 97413|39611.24| 2018-05-01|\n",
      "+------+--------+-----------+\n",
      "only showing top 20 rows\n",
      "\n"
     ]
    }
   ],
   "source": [
    "balance_and_date = transactions.groupBy(\"id\")\\\n",
    "    .agg(\n",
    "        round(sum(\"amount\"), 2).alias(\"balance\"),\n",
    "        max(\"transaction_date\").alias(\"latest_date\")\n",
    "    )\\\n",
    "    .withColumn(\"balance\", col(\"balance\").cast(\"string\"))\n",
    "\n",
    "balance_and_date.show()"
   ]
  }
 ],
 "metadata": {
  "kernelspec": {
   "display_name": "Python 3 (ipykernel)",
   "language": "python",
   "name": "python3"
  },
  "language_info": {
   "codemirror_mode": {
    "name": "ipython",
    "version": 3
   },
   "file_extension": ".py",
   "mimetype": "text/x-python",
   "name": "python",
   "nbconvert_exporter": "python",
   "pygments_lexer": "ipython3",
   "version": "3.11.4"
  }
 },
 "nbformat": 4,
 "nbformat_minor": 5
}
